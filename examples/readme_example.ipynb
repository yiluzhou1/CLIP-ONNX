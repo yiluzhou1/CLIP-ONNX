{
  "cells": [
    {
      "attachments": {},
      "cell_type": "markdown",
      "metadata": {
        "colab_type": "text",
        "id": "view-in-github"
      },
      "source": [
        "<a href=\"https://colab.research.google.com/github/Lednik7/CLIP-ONNX/blob/main/examples/readme_example.ipynb\" target=\"_parent\"><img src=\"https://colab.research.google.com/assets/colab-badge.svg\" alt=\"Open In Colab\"/></a>"
      ]
    },
    {
      "attachments": {},
      "cell_type": "markdown",
      "metadata": {
        "id": "whlsBiJgR8le"
      },
      "source": [
        "## Restart colab session after installation\n",
        "Reload the session if something doesn't work"
      ]
    },
    {
      "cell_type": "code",
      "execution_count": 1,
      "metadata": {
        "id": "HnbpAkvuR73L"
      },
      "outputs": [],
      "source": [
        "%%capture\n",
        "!pip install git+https://github.com/Lednik7/CLIP-ONNX.git\n",
        "!pip install git+https://github.com/openai/CLIP.git\n",
        "!pip install onnxruntime-gpu"
      ]
    },
    {
      "cell_type": "code",
      "execution_count": 2,
      "metadata": {
        "id": "tqy0zKM4R-7M"
      },
      "outputs": [],
      "source": [
        "%%capture\n",
        "!wget -c -O CLIP.png https://github.com/openai/CLIP/blob/main/CLIP.png?raw=true"
      ]
    },
    {
      "cell_type": "code",
      "execution_count": 3,
      "metadata": {
        "colab": {
          "base_uri": "https://localhost:8080/"
        },
        "id": "eKqETHL4YscZ",
        "outputId": "7ff0bc18-fb40-4296-ab05-b079043e46a1"
      },
      "outputs": [
        {
          "name": "stdout",
          "output_type": "stream",
          "text": [
            "NVIDIA-SMI has failed because it couldn't communicate with the NVIDIA driver. Make sure that the latest NVIDIA driver is installed and running.\n",
            "\n"
          ]
        }
      ],
      "source": [
        "!nvidia-smi # CPU Provider"
      ]
    },
    {
      "cell_type": "code",
      "execution_count": 4,
      "metadata": {
        "colab": {
          "base_uri": "https://localhost:8080/"
        },
        "id": "x8IN72OnSAIh",
        "outputId": "81d14047-91fa-4a5c-a1e3-f5b550556591"
      },
      "outputs": [
        {
          "name": "stdout",
          "output_type": "stream",
          "text": [
            "CPU\n"
          ]
        }
      ],
      "source": [
        "import onnxruntime\n",
        "\n",
        "print(onnxruntime.get_device()) # priority device"
      ]
    },
    {
      "attachments": {},
      "cell_type": "markdown",
      "metadata": {
        "id": "U1Pr-YTtSEhs"
      },
      "source": [
        "## CPU inference mode"
      ]
    },
    {
      "cell_type": "code",
      "execution_count": 7,
      "metadata": {
        "id": "gZTxanR26knr"
      },
      "outputs": [],
      "source": [
        "import warnings\n",
        "\n",
        "warnings.filterwarnings(\"ignore\", category=UserWarning)\n",
        "\n"
      ]
    },
    {
      "cell_type": "code",
      "execution_count": 9,
      "metadata": {
        "id": "rPwc6A2SSGyl"
      },
      "outputs": [
        {
          "name": "stdout",
          "output_type": "stream",
          "text": [
            "CLIP(\n",
            "  (visual): VisionTransformer(\n",
            "    (conv1): Conv2d(3, 768, kernel_size=(32, 32), stride=(32, 32), bias=False)\n",
            "    (ln_pre): LayerNorm((768,), eps=1e-05, elementwise_affine=True)\n",
            "    (transformer): Transformer(\n",
            "      (resblocks): Sequential(\n",
            "        (0): ResidualAttentionBlock(\n",
            "          (attn): MultiheadAttention(\n",
            "            (out_proj): NonDynamicallyQuantizableLinear(in_features=768, out_features=768, bias=True)\n",
            "          )\n",
            "          (ln_1): LayerNorm((768,), eps=1e-05, elementwise_affine=True)\n",
            "          (mlp): Sequential(\n",
            "            (c_fc): Linear(in_features=768, out_features=3072, bias=True)\n",
            "            (gelu): QuickGELU()\n",
            "            (c_proj): Linear(in_features=3072, out_features=768, bias=True)\n",
            "          )\n",
            "          (ln_2): LayerNorm((768,), eps=1e-05, elementwise_affine=True)\n",
            "        )\n",
            "        (1): ResidualAttentionBlock(\n",
            "          (attn): MultiheadAttention(\n",
            "            (out_proj): NonDynamicallyQuantizableLinear(in_features=768, out_features=768, bias=True)\n",
            "          )\n",
            "          (ln_1): LayerNorm((768,), eps=1e-05, elementwise_affine=True)\n",
            "          (mlp): Sequential(\n",
            "            (c_fc): Linear(in_features=768, out_features=3072, bias=True)\n",
            "            (gelu): QuickGELU()\n",
            "            (c_proj): Linear(in_features=3072, out_features=768, bias=True)\n",
            "          )\n",
            "          (ln_2): LayerNorm((768,), eps=1e-05, elementwise_affine=True)\n",
            "        )\n",
            "        (2): ResidualAttentionBlock(\n",
            "          (attn): MultiheadAttention(\n",
            "            (out_proj): NonDynamicallyQuantizableLinear(in_features=768, out_features=768, bias=True)\n",
            "          )\n",
            "          (ln_1): LayerNorm((768,), eps=1e-05, elementwise_affine=True)\n",
            "          (mlp): Sequential(\n",
            "            (c_fc): Linear(in_features=768, out_features=3072, bias=True)\n",
            "            (gelu): QuickGELU()\n",
            "            (c_proj): Linear(in_features=3072, out_features=768, bias=True)\n",
            "          )\n",
            "          (ln_2): LayerNorm((768,), eps=1e-05, elementwise_affine=True)\n",
            "        )\n",
            "        (3): ResidualAttentionBlock(\n",
            "          (attn): MultiheadAttention(\n",
            "            (out_proj): NonDynamicallyQuantizableLinear(in_features=768, out_features=768, bias=True)\n",
            "          )\n",
            "          (ln_1): LayerNorm((768,), eps=1e-05, elementwise_affine=True)\n",
            "          (mlp): Sequential(\n",
            "            (c_fc): Linear(in_features=768, out_features=3072, bias=True)\n",
            "            (gelu): QuickGELU()\n",
            "            (c_proj): Linear(in_features=3072, out_features=768, bias=True)\n",
            "          )\n",
            "          (ln_2): LayerNorm((768,), eps=1e-05, elementwise_affine=True)\n",
            "        )\n",
            "        (4): ResidualAttentionBlock(\n",
            "          (attn): MultiheadAttention(\n",
            "            (out_proj): NonDynamicallyQuantizableLinear(in_features=768, out_features=768, bias=True)\n",
            "          )\n",
            "          (ln_1): LayerNorm((768,), eps=1e-05, elementwise_affine=True)\n",
            "          (mlp): Sequential(\n",
            "            (c_fc): Linear(in_features=768, out_features=3072, bias=True)\n",
            "            (gelu): QuickGELU()\n",
            "            (c_proj): Linear(in_features=3072, out_features=768, bias=True)\n",
            "          )\n",
            "          (ln_2): LayerNorm((768,), eps=1e-05, elementwise_affine=True)\n",
            "        )\n",
            "        (5): ResidualAttentionBlock(\n",
            "          (attn): MultiheadAttention(\n",
            "            (out_proj): NonDynamicallyQuantizableLinear(in_features=768, out_features=768, bias=True)\n",
            "          )\n",
            "          (ln_1): LayerNorm((768,), eps=1e-05, elementwise_affine=True)\n",
            "          (mlp): Sequential(\n",
            "            (c_fc): Linear(in_features=768, out_features=3072, bias=True)\n",
            "            (gelu): QuickGELU()\n",
            "            (c_proj): Linear(in_features=3072, out_features=768, bias=True)\n",
            "          )\n",
            "          (ln_2): LayerNorm((768,), eps=1e-05, elementwise_affine=True)\n",
            "        )\n",
            "        (6): ResidualAttentionBlock(\n",
            "          (attn): MultiheadAttention(\n",
            "            (out_proj): NonDynamicallyQuantizableLinear(in_features=768, out_features=768, bias=True)\n",
            "          )\n",
            "          (ln_1): LayerNorm((768,), eps=1e-05, elementwise_affine=True)\n",
            "          (mlp): Sequential(\n",
            "            (c_fc): Linear(in_features=768, out_features=3072, bias=True)\n",
            "            (gelu): QuickGELU()\n",
            "            (c_proj): Linear(in_features=3072, out_features=768, bias=True)\n",
            "          )\n",
            "          (ln_2): LayerNorm((768,), eps=1e-05, elementwise_affine=True)\n",
            "        )\n",
            "        (7): ResidualAttentionBlock(\n",
            "          (attn): MultiheadAttention(\n",
            "            (out_proj): NonDynamicallyQuantizableLinear(in_features=768, out_features=768, bias=True)\n",
            "          )\n",
            "          (ln_1): LayerNorm((768,), eps=1e-05, elementwise_affine=True)\n",
            "          (mlp): Sequential(\n",
            "            (c_fc): Linear(in_features=768, out_features=3072, bias=True)\n",
            "            (gelu): QuickGELU()\n",
            "            (c_proj): Linear(in_features=3072, out_features=768, bias=True)\n",
            "          )\n",
            "          (ln_2): LayerNorm((768,), eps=1e-05, elementwise_affine=True)\n",
            "        )\n",
            "        (8): ResidualAttentionBlock(\n",
            "          (attn): MultiheadAttention(\n",
            "            (out_proj): NonDynamicallyQuantizableLinear(in_features=768, out_features=768, bias=True)\n",
            "          )\n",
            "          (ln_1): LayerNorm((768,), eps=1e-05, elementwise_affine=True)\n",
            "          (mlp): Sequential(\n",
            "            (c_fc): Linear(in_features=768, out_features=3072, bias=True)\n",
            "            (gelu): QuickGELU()\n",
            "            (c_proj): Linear(in_features=3072, out_features=768, bias=True)\n",
            "          )\n",
            "          (ln_2): LayerNorm((768,), eps=1e-05, elementwise_affine=True)\n",
            "        )\n",
            "        (9): ResidualAttentionBlock(\n",
            "          (attn): MultiheadAttention(\n",
            "            (out_proj): NonDynamicallyQuantizableLinear(in_features=768, out_features=768, bias=True)\n",
            "          )\n",
            "          (ln_1): LayerNorm((768,), eps=1e-05, elementwise_affine=True)\n",
            "          (mlp): Sequential(\n",
            "            (c_fc): Linear(in_features=768, out_features=3072, bias=True)\n",
            "            (gelu): QuickGELU()\n",
            "            (c_proj): Linear(in_features=3072, out_features=768, bias=True)\n",
            "          )\n",
            "          (ln_2): LayerNorm((768,), eps=1e-05, elementwise_affine=True)\n",
            "        )\n",
            "        (10): ResidualAttentionBlock(\n",
            "          (attn): MultiheadAttention(\n",
            "            (out_proj): NonDynamicallyQuantizableLinear(in_features=768, out_features=768, bias=True)\n",
            "          )\n",
            "          (ln_1): LayerNorm((768,), eps=1e-05, elementwise_affine=True)\n",
            "          (mlp): Sequential(\n",
            "            (c_fc): Linear(in_features=768, out_features=3072, bias=True)\n",
            "            (gelu): QuickGELU()\n",
            "            (c_proj): Linear(in_features=3072, out_features=768, bias=True)\n",
            "          )\n",
            "          (ln_2): LayerNorm((768,), eps=1e-05, elementwise_affine=True)\n",
            "        )\n",
            "        (11): ResidualAttentionBlock(\n",
            "          (attn): MultiheadAttention(\n",
            "            (out_proj): NonDynamicallyQuantizableLinear(in_features=768, out_features=768, bias=True)\n",
            "          )\n",
            "          (ln_1): LayerNorm((768,), eps=1e-05, elementwise_affine=True)\n",
            "          (mlp): Sequential(\n",
            "            (c_fc): Linear(in_features=768, out_features=3072, bias=True)\n",
            "            (gelu): QuickGELU()\n",
            "            (c_proj): Linear(in_features=3072, out_features=768, bias=True)\n",
            "          )\n",
            "          (ln_2): LayerNorm((768,), eps=1e-05, elementwise_affine=True)\n",
            "        )\n",
            "      )\n",
            "    )\n",
            "    (ln_post): LayerNorm((768,), eps=1e-05, elementwise_affine=True)\n",
            "  )\n",
            "  (transformer): Transformer(\n",
            "    (resblocks): Sequential(\n",
            "      (0): ResidualAttentionBlock(\n",
            "        (attn): MultiheadAttention(\n",
            "          (out_proj): NonDynamicallyQuantizableLinear(in_features=512, out_features=512, bias=True)\n",
            "        )\n",
            "        (ln_1): LayerNorm((512,), eps=1e-05, elementwise_affine=True)\n",
            "        (mlp): Sequential(\n",
            "          (c_fc): Linear(in_features=512, out_features=2048, bias=True)\n",
            "          (gelu): QuickGELU()\n",
            "          (c_proj): Linear(in_features=2048, out_features=512, bias=True)\n",
            "        )\n",
            "        (ln_2): LayerNorm((512,), eps=1e-05, elementwise_affine=True)\n",
            "      )\n",
            "      (1): ResidualAttentionBlock(\n",
            "        (attn): MultiheadAttention(\n",
            "          (out_proj): NonDynamicallyQuantizableLinear(in_features=512, out_features=512, bias=True)\n",
            "        )\n",
            "        (ln_1): LayerNorm((512,), eps=1e-05, elementwise_affine=True)\n",
            "        (mlp): Sequential(\n",
            "          (c_fc): Linear(in_features=512, out_features=2048, bias=True)\n",
            "          (gelu): QuickGELU()\n",
            "          (c_proj): Linear(in_features=2048, out_features=512, bias=True)\n",
            "        )\n",
            "        (ln_2): LayerNorm((512,), eps=1e-05, elementwise_affine=True)\n",
            "      )\n",
            "      (2): ResidualAttentionBlock(\n",
            "        (attn): MultiheadAttention(\n",
            "          (out_proj): NonDynamicallyQuantizableLinear(in_features=512, out_features=512, bias=True)\n",
            "        )\n",
            "        (ln_1): LayerNorm((512,), eps=1e-05, elementwise_affine=True)\n",
            "        (mlp): Sequential(\n",
            "          (c_fc): Linear(in_features=512, out_features=2048, bias=True)\n",
            "          (gelu): QuickGELU()\n",
            "          (c_proj): Linear(in_features=2048, out_features=512, bias=True)\n",
            "        )\n",
            "        (ln_2): LayerNorm((512,), eps=1e-05, elementwise_affine=True)\n",
            "      )\n",
            "      (3): ResidualAttentionBlock(\n",
            "        (attn): MultiheadAttention(\n",
            "          (out_proj): NonDynamicallyQuantizableLinear(in_features=512, out_features=512, bias=True)\n",
            "        )\n",
            "        (ln_1): LayerNorm((512,), eps=1e-05, elementwise_affine=True)\n",
            "        (mlp): Sequential(\n",
            "          (c_fc): Linear(in_features=512, out_features=2048, bias=True)\n",
            "          (gelu): QuickGELU()\n",
            "          (c_proj): Linear(in_features=2048, out_features=512, bias=True)\n",
            "        )\n",
            "        (ln_2): LayerNorm((512,), eps=1e-05, elementwise_affine=True)\n",
            "      )\n",
            "      (4): ResidualAttentionBlock(\n",
            "        (attn): MultiheadAttention(\n",
            "          (out_proj): NonDynamicallyQuantizableLinear(in_features=512, out_features=512, bias=True)\n",
            "        )\n",
            "        (ln_1): LayerNorm((512,), eps=1e-05, elementwise_affine=True)\n",
            "        (mlp): Sequential(\n",
            "          (c_fc): Linear(in_features=512, out_features=2048, bias=True)\n",
            "          (gelu): QuickGELU()\n",
            "          (c_proj): Linear(in_features=2048, out_features=512, bias=True)\n",
            "        )\n",
            "        (ln_2): LayerNorm((512,), eps=1e-05, elementwise_affine=True)\n",
            "      )\n",
            "      (5): ResidualAttentionBlock(\n",
            "        (attn): MultiheadAttention(\n",
            "          (out_proj): NonDynamicallyQuantizableLinear(in_features=512, out_features=512, bias=True)\n",
            "        )\n",
            "        (ln_1): LayerNorm((512,), eps=1e-05, elementwise_affine=True)\n",
            "        (mlp): Sequential(\n",
            "          (c_fc): Linear(in_features=512, out_features=2048, bias=True)\n",
            "          (gelu): QuickGELU()\n",
            "          (c_proj): Linear(in_features=2048, out_features=512, bias=True)\n",
            "        )\n",
            "        (ln_2): LayerNorm((512,), eps=1e-05, elementwise_affine=True)\n",
            "      )\n",
            "      (6): ResidualAttentionBlock(\n",
            "        (attn): MultiheadAttention(\n",
            "          (out_proj): NonDynamicallyQuantizableLinear(in_features=512, out_features=512, bias=True)\n",
            "        )\n",
            "        (ln_1): LayerNorm((512,), eps=1e-05, elementwise_affine=True)\n",
            "        (mlp): Sequential(\n",
            "          (c_fc): Linear(in_features=512, out_features=2048, bias=True)\n",
            "          (gelu): QuickGELU()\n",
            "          (c_proj): Linear(in_features=2048, out_features=512, bias=True)\n",
            "        )\n",
            "        (ln_2): LayerNorm((512,), eps=1e-05, elementwise_affine=True)\n",
            "      )\n",
            "      (7): ResidualAttentionBlock(\n",
            "        (attn): MultiheadAttention(\n",
            "          (out_proj): NonDynamicallyQuantizableLinear(in_features=512, out_features=512, bias=True)\n",
            "        )\n",
            "        (ln_1): LayerNorm((512,), eps=1e-05, elementwise_affine=True)\n",
            "        (mlp): Sequential(\n",
            "          (c_fc): Linear(in_features=512, out_features=2048, bias=True)\n",
            "          (gelu): QuickGELU()\n",
            "          (c_proj): Linear(in_features=2048, out_features=512, bias=True)\n",
            "        )\n",
            "        (ln_2): LayerNorm((512,), eps=1e-05, elementwise_affine=True)\n",
            "      )\n",
            "      (8): ResidualAttentionBlock(\n",
            "        (attn): MultiheadAttention(\n",
            "          (out_proj): NonDynamicallyQuantizableLinear(in_features=512, out_features=512, bias=True)\n",
            "        )\n",
            "        (ln_1): LayerNorm((512,), eps=1e-05, elementwise_affine=True)\n",
            "        (mlp): Sequential(\n",
            "          (c_fc): Linear(in_features=512, out_features=2048, bias=True)\n",
            "          (gelu): QuickGELU()\n",
            "          (c_proj): Linear(in_features=2048, out_features=512, bias=True)\n",
            "        )\n",
            "        (ln_2): LayerNorm((512,), eps=1e-05, elementwise_affine=True)\n",
            "      )\n",
            "      (9): ResidualAttentionBlock(\n",
            "        (attn): MultiheadAttention(\n",
            "          (out_proj): NonDynamicallyQuantizableLinear(in_features=512, out_features=512, bias=True)\n",
            "        )\n",
            "        (ln_1): LayerNorm((512,), eps=1e-05, elementwise_affine=True)\n",
            "        (mlp): Sequential(\n",
            "          (c_fc): Linear(in_features=512, out_features=2048, bias=True)\n",
            "          (gelu): QuickGELU()\n",
            "          (c_proj): Linear(in_features=2048, out_features=512, bias=True)\n",
            "        )\n",
            "        (ln_2): LayerNorm((512,), eps=1e-05, elementwise_affine=True)\n",
            "      )\n",
            "      (10): ResidualAttentionBlock(\n",
            "        (attn): MultiheadAttention(\n",
            "          (out_proj): NonDynamicallyQuantizableLinear(in_features=512, out_features=512, bias=True)\n",
            "        )\n",
            "        (ln_1): LayerNorm((512,), eps=1e-05, elementwise_affine=True)\n",
            "        (mlp): Sequential(\n",
            "          (c_fc): Linear(in_features=512, out_features=2048, bias=True)\n",
            "          (gelu): QuickGELU()\n",
            "          (c_proj): Linear(in_features=2048, out_features=512, bias=True)\n",
            "        )\n",
            "        (ln_2): LayerNorm((512,), eps=1e-05, elementwise_affine=True)\n",
            "      )\n",
            "      (11): ResidualAttentionBlock(\n",
            "        (attn): MultiheadAttention(\n",
            "          (out_proj): NonDynamicallyQuantizableLinear(in_features=512, out_features=512, bias=True)\n",
            "        )\n",
            "        (ln_1): LayerNorm((512,), eps=1e-05, elementwise_affine=True)\n",
            "        (mlp): Sequential(\n",
            "          (c_fc): Linear(in_features=512, out_features=2048, bias=True)\n",
            "          (gelu): QuickGELU()\n",
            "          (c_proj): Linear(in_features=2048, out_features=512, bias=True)\n",
            "        )\n",
            "        (ln_2): LayerNorm((512,), eps=1e-05, elementwise_affine=True)\n",
            "      )\n",
            "    )\n",
            "  )\n",
            "  (token_embedding): Embedding(49408, 512)\n",
            "  (ln_final): LayerNorm((512,), eps=1e-05, elementwise_affine=True)\n",
            ")\n"
          ]
        }
      ],
      "source": [
        "import clip\n",
        "from PIL import Image\n",
        "import numpy as np\n",
        "\n",
        "# onnx cannot export with cuda\n",
        "model, preprocess = clip.load(\"ViT-B/32\", device=\"cpu\", jit=False)\n",
        "\n",
        "# batch first\n",
        "image = preprocess(Image.open('/mnt/eds_share/share/Spine2D/GlobusSrgMapData_crop_square/test/images/anon_d4730414.dcm_lateral_full_lumbar_thoracic.jpg')).unsqueeze(0).cpu() # [1, 3, 224, 224]\n",
        "image_onnx = image.detach().cpu().numpy().astype(np.float32)\n",
        "\n",
        "# batch first\n",
        "text = clip.tokenize([\"MRI\", \"Xray\", \"CT\"]).cpu() # [3, 77]\n",
        "text_onnx = text.detach().cpu().numpy().astype(np.int32)\n",
        "print(preprocess)"
      ]
    },
    {
      "cell_type": "code",
      "execution_count": 5,
      "metadata": {
        "colab": {
          "base_uri": "https://localhost:8080/"
        },
        "id": "oYM5FDSGSJBW",
        "outputId": "816705b1-3829-4424-c7c4-5426cf21cc18"
      },
      "outputs": [
        {
          "name": "stdout",
          "output_type": "stream",
          "text": [
            "[CLIP ONNX] Start convert visual model\n",
            "[CLIP ONNX] Start check visual model\n",
            "[CLIP ONNX] Start convert textual model\n"
          ]
        },
        {
          "ename": "AttributeError",
          "evalue": "'CLIP' object has no attribute 'attn_mask'",
          "output_type": "error",
          "traceback": [
            "\u001b[0;31m---------------------------------------------------------------------------\u001b[0m",
            "\u001b[0;31mAttributeError\u001b[0m                            Traceback (most recent call last)",
            "Cell \u001b[0;32mIn[5], line 8\u001b[0m\n\u001b[1;32m      5\u001b[0m textual_path \u001b[39m=\u001b[39m \u001b[39m\"\u001b[39m\u001b[39mclip_textual.onnx\u001b[39m\u001b[39m\"\u001b[39m\n\u001b[1;32m      7\u001b[0m onnx_model \u001b[39m=\u001b[39m clip_onnx(model, visual_path\u001b[39m=\u001b[39mvisual_path, textual_path\u001b[39m=\u001b[39mtextual_path)\n\u001b[0;32m----> 8\u001b[0m onnx_model\u001b[39m.\u001b[39;49mconvert2onnx(image, text, verbose\u001b[39m=\u001b[39;49m\u001b[39mTrue\u001b[39;49;00m)\n\u001b[1;32m      9\u001b[0m \u001b[39m# ['TensorrtExecutionProvider', 'CUDAExecutionProvider', 'CPUExecutionProvider']\u001b[39;00m\n\u001b[1;32m     10\u001b[0m onnx_model\u001b[39m.\u001b[39mstart_sessions(providers\u001b[39m=\u001b[39m[\u001b[39m\"\u001b[39m\u001b[39mCPUExecutionProvider\u001b[39m\u001b[39m\"\u001b[39m]) \u001b[39m# cpu mode\u001b[39;00m\n",
            "File \u001b[0;32m/opt/miniconda/envs/yz_openclip/lib/python3.10/site-packages/clip_onnx/clip_converter.py:88\u001b[0m, in \u001b[0;36mclip_converter.convert2onnx\u001b[0;34m(self, visual_input, textual_input, verbose, visual_wrapper, textual_wrapper, visual_export_params, textual_export_params)\u001b[0m\n\u001b[1;32m     86\u001b[0m \u001b[39mif\u001b[39;00m verbose:\n\u001b[1;32m     87\u001b[0m     \u001b[39mprint\u001b[39m(\u001b[39m\"\u001b[39m\u001b[39m[CLIP ONNX] Start convert textual model\u001b[39m\u001b[39m\"\u001b[39m)\n\u001b[0;32m---> 88\u001b[0m \u001b[39mself\u001b[39;49m\u001b[39m.\u001b[39;49mconvert_textual(textual_input, textual_wrapper, textual_export_params)\n\u001b[1;32m     89\u001b[0m \u001b[39mif\u001b[39;00m verbose:\n\u001b[1;32m     90\u001b[0m     \u001b[39mprint\u001b[39m(\u001b[39m\"\u001b[39m\u001b[39m[CLIP ONNX] Start check textual model\u001b[39m\u001b[39m\"\u001b[39m)\n",
            "File \u001b[0;32m/opt/miniconda/envs/yz_openclip/lib/python3.10/site-packages/clip_onnx/clip_converter.py:55\u001b[0m, in \u001b[0;36mclip_converter.convert_textual\u001b[0;34m(self, dummy_input, wrapper, export_params)\u001b[0m\n\u001b[1;32m     53\u001b[0m \u001b[39mdef\u001b[39;00m \u001b[39mconvert_textual\u001b[39m(\u001b[39mself\u001b[39m, dummy_input, wrapper\u001b[39m=\u001b[39mTextual,\n\u001b[1;32m     54\u001b[0m                     export_params\u001b[39m=\u001b[39mDEFAULT_EXPORT):\n\u001b[0;32m---> 55\u001b[0m     textual \u001b[39m=\u001b[39m wrapper(\u001b[39mself\u001b[39;49m\u001b[39m.\u001b[39;49mmodel)\n\u001b[1;32m     56\u001b[0m     \u001b[39mself\u001b[39m\u001b[39m.\u001b[39mtorch_export(textual, dummy_input, \u001b[39mself\u001b[39m\u001b[39m.\u001b[39mtextual_path,\n\u001b[1;32m     57\u001b[0m                       export_params\u001b[39m=\u001b[39mexport_params)\n\u001b[1;32m     58\u001b[0m     \u001b[39mself\u001b[39m\u001b[39m.\u001b[39monnx_checker(\u001b[39mself\u001b[39m\u001b[39m.\u001b[39mtextual_path)\n",
            "File \u001b[0;32m/opt/miniconda/envs/yz_openclip/lib/python3.10/site-packages/clip_onnx/utils.py:15\u001b[0m, in \u001b[0;36mTextual.__init__\u001b[0;34m(self, model)\u001b[0m\n\u001b[1;32m     13\u001b[0m \u001b[39mself\u001b[39m\u001b[39m.\u001b[39mtext_projection \u001b[39m=\u001b[39m model\u001b[39m.\u001b[39mtext_projection\n\u001b[1;32m     14\u001b[0m \u001b[39mself\u001b[39m\u001b[39m.\u001b[39mtoken_embedding \u001b[39m=\u001b[39m model\u001b[39m.\u001b[39mtoken_embedding\n\u001b[0;32m---> 15\u001b[0m \u001b[39mself\u001b[39m\u001b[39m.\u001b[39mattn_mask \u001b[39m=\u001b[39m model\u001b[39m.\u001b[39;49mattn_mask\n",
            "File \u001b[0;32m/opt/miniconda/envs/yz_openclip/lib/python3.10/site-packages/torch/nn/modules/module.py:1695\u001b[0m, in \u001b[0;36mModule.__getattr__\u001b[0;34m(self, name)\u001b[0m\n\u001b[1;32m   1693\u001b[0m     \u001b[39mif\u001b[39;00m name \u001b[39min\u001b[39;00m modules:\n\u001b[1;32m   1694\u001b[0m         \u001b[39mreturn\u001b[39;00m modules[name]\n\u001b[0;32m-> 1695\u001b[0m \u001b[39mraise\u001b[39;00m \u001b[39mAttributeError\u001b[39;00m(\u001b[39mf\u001b[39m\u001b[39m\"\u001b[39m\u001b[39m'\u001b[39m\u001b[39m{\u001b[39;00m\u001b[39mtype\u001b[39m(\u001b[39mself\u001b[39m)\u001b[39m.\u001b[39m\u001b[39m__name__\u001b[39m\u001b[39m}\u001b[39;00m\u001b[39m'\u001b[39m\u001b[39m object has no attribute \u001b[39m\u001b[39m'\u001b[39m\u001b[39m{\u001b[39;00mname\u001b[39m}\u001b[39;00m\u001b[39m'\u001b[39m\u001b[39m\"\u001b[39m)\n",
            "\u001b[0;31mAttributeError\u001b[0m: 'CLIP' object has no attribute 'attn_mask'"
          ]
        }
      ],
      "source": [
        "from clip_onnx import clip_onnx #, attention\n",
        "# clip.model.ResidualAttentionBlock.attention = attention\n",
        "\n",
        "visual_path = \"clip_visual.onnx\"\n",
        "textual_path = \"clip_textual.onnx\"\n",
        "\n",
        "onnx_model = clip_onnx(model, visual_path=visual_path, textual_path=textual_path)\n",
        "onnx_model.convert2onnx(image, text, verbose=True)\n",
        "# ['TensorrtExecutionProvider', 'CUDAExecutionProvider', 'CPUExecutionProvider']\n",
        "onnx_model.start_sessions(providers=[\"CPUExecutionProvider\"]) # cpu mode"
      ]
    },
    {
      "cell_type": "code",
      "execution_count": 3,
      "metadata": {
        "colab": {
          "base_uri": "https://localhost:8080/"
        },
        "id": "tYVuk72nSLw6",
        "outputId": "41608059-3732-4ea7-c619-66f803af4185"
      },
      "outputs": [
        {
          "name": "stdout",
          "output_type": "stream",
          "text": [
            "Label probs: [[0.08915787 0.90815187 0.00269029]]\n"
          ]
        }
      ],
      "source": [
        "image_features = onnx_model.encode_image(image_onnx)\n",
        "text_features = onnx_model.encode_text(text_onnx)\n",
        "\n",
        "logits_per_image, logits_per_text = onnx_model(image_onnx, text_onnx)\n",
        "probs = logits_per_image.softmax(dim=-1).detach().cpu().numpy()\n",
        "\n",
        "print(\"Label probs:\", probs)  # prints: [[0.9927937  0.00421067 0.00299571]]"
      ]
    }
  ],
  "metadata": {
    "colab": {
      "authorship_tag": "ABX9TyPpME0Qdi/m3VZQ+jNj39dT",
      "include_colab_link": true,
      "name": "readme_example.ipynb",
      "provenance": []
    },
    "kernelspec": {
      "display_name": "Python 3",
      "name": "python3"
    },
    "language_info": {
      "codemirror_mode": {
        "name": "ipython",
        "version": 3
      },
      "file_extension": ".py",
      "mimetype": "text/x-python",
      "name": "python",
      "nbconvert_exporter": "python",
      "pygments_lexer": "ipython3",
      "version": "3.10.12"
    }
  },
  "nbformat": 4,
  "nbformat_minor": 0
}
